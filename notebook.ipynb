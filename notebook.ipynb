{
 "cells": [
  {
   "cell_type": "markdown",
   "source": "# Lecture 2: Linear and Logistic Regression\n### [Areeb Gani](https://github.com/Qwerty71), [Michael Ilie](https://www.mci.sh), [Vijay Shanmugam](https://www.vijayrs.ml)\nThis notebook will introduce the basic concepts and applications of linear regression and logistic regression\n\n## Note: you will need to run the following code cell every time you restart this notebook\n",
   "metadata": {
    "tags": [],
    "cell_id": "00000-9764144b-55c9-4a1a-98bf-705ea7932e15",
    "deepnote_cell_type": "markdown"
   }
  },
  {
   "cell_type": "code",
   "metadata": {
    "tags": [],
    "cell_id": "00001-574160a4-968d-4b1e-9e35-eafed83845e9",
    "deepnote_cell_type": "code"
   },
   "source": "!pip install -r requirements.txt\nimport pandas as pd\nimport matplotlib.pyplot as plt\nimport numpy as np\nimport statsmodels.api as sm\nimport seaborn as sns\nfrom sklearn import datasets, linear_model\n\nfrom IPython.display import display\n\niris = sns.load_dataset('iris')",
   "outputs": [],
   "execution_count": null
  },
  {
   "cell_type": "markdown",
   "source": "## What is linear regression? \nThe long fancy wikipedia answer to this question is: \n```\nIn statistics, linear regression is a linear approach for modelling the relationship between a scalar response and one or more explanatory variables (also known as dependent and independent variables).\n```\nTranslating, linear regression is a method of approximating a linear relationship (think `y=mx+b`) between a variable (or set of variables ) and a value. This can be as simple as relating the number of hours slept by a student to their test scores. Again, multiple variables can be used; you can correspond other things to such a related value, for example, your linear regression model can predict the relationship between a bunch of variables, such as a student's gpa, hours slept, and time studied, to their test score.\n\nThe essence of this problem is that when you have a bunch of data points, say an entire class of students, chances are the dots on the graph are not going to align up into a perfect line. So your job, if you want to make a model that can most accurately predict test scores based on certain conditions, is to calculate the coefficients \n\n## How Exactly does it work?\nAs mentioned previously, your model will look something akin to `y=mx+b`, however it will be a bit more complicated. Basic linear regression with one dependent variable has the following equation:\n```\ny= B0 + B1*x + E\n```\nwhere B0 is the y intercept value, B1 is the slope/coefficient for the x variable, and E is the error term. This can be generalized to the following:\n```\ny = B0 + B1*x1 + B2*X2 ... + Bi*xi + E\n```\nwhere Bi is each variable's respective coefficient. \nNow that we know what our model should look like, how exactly do we get those magical values? \n\n## Training \nMachine learning algorithms usually work in the following manner:\n1) you have a model, and data that you can plug into said model \n2) you have a function called the Cost function, which represents how off your model is from the provided real data (aka your error, or Loss)\n3) Use an algorithm to minimize (find the lowest point) of your cost function, which represents the least error. This in turn will allow you to calculate your most optimal coefficients for your model \n\n### Cost Function\n\n![Picture title](image-20211005-095748.png)\n\n\n\n\n\n\n### Follow along this simple tutorial\nGet familiar with your first linear regression sample\n",
   "metadata": {
    "tags": [],
    "cell_id": "00002-a1d68ee0-cf80-4910-837e-270e600c1bce",
    "deepnote_cell_type": "markdown"
   }
  },
  {
   "cell_type": "markdown",
   "source": "![Picture title](image-20211005-095748.png)",
   "metadata": {
    "tags": [],
    "cell_id": "00003-30b2f00a-ddd7-4322-bdc8-c7f1dbef92d3",
    "deepnote_cell_type": "markdown"
   }
  },
  {
   "cell_type": "markdown",
   "source": "use the `sklearn.dataset` to import and arrange your datasets (this ones about diabetes)",
   "metadata": {
    "tags": [],
    "cell_id": "00003-5e5ac417-dbc8-48be-90da-ed7568b48d50",
    "deepnote_cell_type": "markdown"
   }
  },
  {
   "cell_type": "code",
   "metadata": {
    "tags": [],
    "cell_id": "00003-e837fe06-1fe5-4af9-8707-447aeafe318d",
    "deepnote_cell_type": "code"
   },
   "source": "# Load the diabetes dataset \ndiabetes_X, diabetes_y = datasets.load_diabetes(return_X_y=True)\n\n# Use only one feature as opposed to using all the features provided in this dataset, well get to that later\ndiabetes_X = diabetes_X[:, np.newaxis, 2]\n\n# Split the data into training/testing sets. We will use some data to test the accuracy of our linear regression model\ndiabetes_X_train = diabetes_X[:-20]\ndiabetes_X_test = diabetes_X[-20:]\n\n# Split the targets into training/testing sets (values we will predict, or learn to predict)\ndiabetes_y_train = diabetes_y[:-20]\ndiabetes_y_test = diabetes_y[-20:]\n\n# Create linear regression object\nregr = linear_model.LinearRegression()\n\n# Train the model using the training sets\nregr.fit(diabetes_X_train, diabetes_y_train)\n\n# Make predictions using the testing set\ndiabetes_y_pred = regr.predict(diabetes_X_test)\n\n# The coefficients\nprint('Coefficients: \\n', regr.coef_)\n# The mean squared error\nprint('Mean squared error: %.2f'\n      % mean_squared_error(diabetes_y_test, diabetes_y_pred))\n# The coefficient of determination: 1 is perfect prediction\nprint('Coefficient of determination: %.2f'\n      % r2_score(diabetes_y_test, diabetes_y_pred))\n\n# Plot outputs\nplt.scatter(diabetes_X_test, diabetes_y_test,  color='black')\nplt.plot(diabetes_X_test, diabetes_y_pred, color='blue', linewidth=3)\n\nplt.xticks(())\nplt.yticks(())\n\nplt.show()",
   "outputs": [],
   "execution_count": null
  },
  {
   "cell_type": "markdown",
   "source": "<a style='text-decoration:none;line-height:16px;display:flex;color:#5B5B62;padding:10px;justify-content:end;' href='https://deepnote.com?utm_source=created-in-deepnote-cell&projectId=1576d67f-6fb5-40fe-a51b-b52168739bab' target=\"_blank\">\n<img alt='Created in deepnote.com' style='display:inline;max-height:16px;margin:0px;margin-right:7.5px;' src='data:image/svg+xml;base64,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' > </img>\nCreated in <span style='font-weight:600;margin-left:4px;'>Deepnote</span></a>",
   "metadata": {
    "tags": [],
    "created_in_deepnote_cell": true,
    "deepnote_cell_type": "markdown"
   }
  }
 ],
 "nbformat": 4,
 "nbformat_minor": 2,
 "metadata": {
  "orig_nbformat": 2,
  "deepnote": {
   "is_reactive": false
  },
  "deepnote_notebook_id": "b7b730af-a013-4d69-aa62-2f5d6cc0f6f7",
  "deepnote_execution_queue": []
 }
}